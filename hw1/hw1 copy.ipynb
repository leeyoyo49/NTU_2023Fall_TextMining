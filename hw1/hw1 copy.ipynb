{
 "cells": [
  {
   "cell_type": "code",
   "execution_count": 59,
   "metadata": {},
   "outputs": [],
   "source": [
    "from sklearn.feature_extraction.text import TfidfVectorizer"
   ]
  },
  {
   "cell_type": "code",
   "execution_count": 60,
   "metadata": {},
   "outputs": [],
   "source": [
    "# 1-1096\n",
    "raw_data_cnt = 1095\n",
    "raw_data = []\n",
    "for x in range(raw_data_cnt):\n",
    "    with open('PA1-data/'+str(x+1)+'.txt', 'r') as file:\n",
    "        file_contents = file.read()\n",
    "        raw_data.append(file_contents)\n"
   ]
  },
  {
   "cell_type": "code",
   "execution_count": 64,
   "metadata": {},
   "outputs": [
    {
     "name": "stdout",
     "output_type": "stream",
     "text": [
      "  (0, 11475)\t0.03459241484007367\n",
      "  (0, 11966)\t0.09084598878282747\n",
      "  (0, 16499)\t0.07254445456814541\n",
      "  (0, 9956)\t0.05018111962735821\n",
      "  (0, 11464)\t0.03248432405090092\n",
      "  (0, 9695)\t0.07161745511923577\n",
      "  (0, 5299)\t0.08581587285939847\n",
      "  (0, 3376)\t0.06416472528522042\n",
      "  (0, 3152)\t0.057875914777675334\n",
      "  (0, 8246)\t0.049022192782106865\n",
      "  (0, 9812)\t0.047836290398788825\n",
      "  (0, 1)\t0.03906018762928562\n",
      "  (0, 13)\t0.04388801919117773\n",
      "  (0, 1907)\t0.08115022340014774\n",
      "  (0, 5577)\t0.08813669309007982\n",
      "  (0, 15504)\t0.09601069531364059\n",
      "  (0, 13601)\t0.07628310457848649\n",
      "  (0, 11925)\t0.07161745511923577\n",
      "  (0, 12823)\t0.09817631746896634\n",
      "  (0, 10039)\t0.08943483173525589\n",
      "  (0, 7992)\t0.07074058886360512\n",
      "  (0, 2136)\t0.052091333746492184\n",
      "  (0, 18548)\t0.0659685909897607\n",
      "  (0, 7178)\t0.08476918227600516\n",
      "  (0, 9310)\t0.07512417773323514\n",
      "  :\t:\n",
      "  (0, 14521)\t0.09601069531364059\n",
      "  (0, 8298)\t0.052227050648200275\n",
      "  (0, 16460)\t0.25225909329416984\n",
      "  (0, 7354)\t0.09157609855074034\n",
      "  (0, 6226)\t0.0622861562007343\n",
      "  (0, 15221)\t0.11461360223443001\n",
      "  (0, 17412)\t0.054256955901817915\n",
      "  (0, 2062)\t0.2744343161792933\n",
      "  (0, 10249)\t0.17886966347051178\n",
      "  (0, 9245)\t0.13130733402961792\n",
      "  (0, 11384)\t0.12308642740911296\n",
      "  (0, 18922)\t0.12835618616536182\n",
      "  (0, 10839)\t0.30108671776414925\n",
      "  (0, 15737)\t0.102343688808549\n",
      "  (0, 13061)\t0.027578402417603683\n",
      "  (0, 13072)\t0.12213235420992043\n",
      "  (0, 16301)\t0.057683982654652556\n",
      "  (0, 6990)\t0.0473246367633998\n",
      "  (0, 11883)\t0.22405112678218725\n",
      "  (0, 19082)\t0.050793195101316115\n",
      "  (0, 18635)\t0.06836296270755661\n",
      "  (0, 3484)\t0.04742568428724145\n",
      "  (0, 9431)\t0.07254445456814541\n",
      "  (0, 8304)\t0.040318032899421194\n",
      "  (0, 18771)\t0.0466344017400399\n"
     ]
    }
   ],
   "source": [
    "TFID_vectorizer = TfidfVectorizer(lowercase=True, stop_words='english')\n",
    "TFID_vector = TFID_vectorizer.fit_transform(raw_data)   \n",
    "output = TFID_vector.toarray()\n",
    "print(TFID_vector[0])"
   ]
  },
  {
   "cell_type": "code",
   "execution_count": 62,
   "metadata": {},
   "outputs": [],
   "source": [
    "import numpy as np\n",
    "for x in range(raw_data_cnt):\n",
    "    np.savetxt('output/'+str(x+1)+'.vec',output[x])"
   ]
  },
  {
   "cell_type": "code",
   "execution_count": 63,
   "metadata": {},
   "outputs": [
    {
     "name": "stdout",
     "output_type": "stream",
     "text": [
      "[0.19991362]\n"
     ]
    }
   ],
   "source": [
    "from sklearn.metrics.pairwise import cosine_similarity\n",
    "\n",
    "doc1 = np.loadtxt('output/1.vec')\n",
    "doc2 = np.loadtxt('output/2.vec')\n",
    "\n",
    "cos_sim_val = cosine_similarity(doc1.reshape(1,-1),doc2.reshape(1,-1))\n",
    "print(cos_sim_val[0])\n",
    "\n"
   ]
  }
 ],
 "metadata": {
  "kernelspec": {
   "display_name": "text-processing-dU80QEBk-py3.11",
   "language": "python",
   "name": "python3"
  },
  "language_info": {
   "codemirror_mode": {
    "name": "ipython",
    "version": 3
   },
   "file_extension": ".py",
   "mimetype": "text/x-python",
   "name": "python",
   "nbconvert_exporter": "python",
   "pygments_lexer": "ipython3",
   "version": "3.11.3"
  },
  "orig_nbformat": 4
 },
 "nbformat": 4,
 "nbformat_minor": 2
}
